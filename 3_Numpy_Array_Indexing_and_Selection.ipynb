{
  "nbformat": 4,
  "nbformat_minor": 0,
  "metadata": {
    "kernelspec": {
      "display_name": "Python 3",
      "language": "python",
      "name": "python3"
    },
    "language_info": {
      "codemirror_mode": {
        "name": "ipython",
        "version": 3
      },
      "file_extension": ".py",
      "mimetype": "text/x-python",
      "name": "python",
      "nbconvert_exporter": "python",
      "pygments_lexer": "ipython3",
      "version": "3.8.5"
    },
    "colab": {
      "name": "3 - Numpy Array Indexing and Selection.ipynb",
      "provenance": [],
      "collapsed_sections": [],
      "include_colab_link": true
    }
  },
  "cells": [
    {
      "cell_type": "markdown",
      "metadata": {
        "id": "view-in-github",
        "colab_type": "text"
      },
      "source": [
        "<a href=\"https://colab.research.google.com/github/carljhon/Appsdev-prelim-exam/blob/master/3_Numpy_Array_Indexing_and_Selection.ipynb\" target=\"_parent\"><img src=\"https://colab.research.google.com/assets/colab-badge.svg\" alt=\"Open In Colab\"/></a>"
      ]
    },
    {
      "cell_type": "markdown",
      "metadata": {
        "id": "WXNM88thPGWn"
      },
      "source": [
        "# Numpy Indexing and Selection"
      ]
    },
    {
      "cell_type": "code",
      "metadata": {
        "id": "19j41kYvPGWu"
      },
      "source": [
        "import numpy as np"
      ],
      "execution_count": null,
      "outputs": []
    },
    {
      "cell_type": "code",
      "metadata": {
        "id": "CdKKUicTPGWz"
      },
      "source": [
        "sample_array = np.arange(0, 11)"
      ],
      "execution_count": null,
      "outputs": []
    },
    {
      "cell_type": "code",
      "metadata": {
        "colab": {
          "base_uri": "https://localhost:8080/"
        },
        "id": "GKHWGxK6PGW2",
        "outputId": "2aa8f0d1-0984-4391-d7fb-0fc4a83d19c5"
      },
      "source": [
        "sample_array"
      ],
      "execution_count": null,
      "outputs": [
        {
          "output_type": "execute_result",
          "data": {
            "text/plain": [
              "array([ 0,  1,  2,  3,  4,  5,  6,  7,  8,  9, 10])"
            ]
          },
          "metadata": {},
          "execution_count": 5
        }
      ]
    },
    {
      "cell_type": "markdown",
      "metadata": {
        "id": "mVXRbAr7PGW4"
      },
      "source": [
        "## Indexing Array"
      ]
    },
    {
      "cell_type": "code",
      "metadata": {
        "colab": {
          "base_uri": "https://localhost:8080/"
        },
        "id": "3HvlDY7kPGW6",
        "outputId": "3b2c7e50-c9fb-4d15-ca9d-081e0f171bb7"
      },
      "source": [
        "sample_array[7]"
      ],
      "execution_count": null,
      "outputs": [
        {
          "output_type": "execute_result",
          "data": {
            "text/plain": [
              "7"
            ]
          },
          "metadata": {},
          "execution_count": 6
        }
      ]
    },
    {
      "cell_type": "code",
      "metadata": {
        "id": "PCiwf2G8PGW8"
      },
      "source": [
        "# Array slicing\n",
        "sample_array[2:5]"
      ],
      "execution_count": null,
      "outputs": []
    },
    {
      "cell_type": "code",
      "metadata": {
        "id": "TM3o-s0IPGW_"
      },
      "source": [
        "# Get everthing beyond index 2\n",
        "sample_array[2:]"
      ],
      "execution_count": null,
      "outputs": []
    },
    {
      "cell_type": "markdown",
      "metadata": {
        "id": "QMV4CloYPGXA"
      },
      "source": [
        "## Broadcasting in NumPy Array"
      ]
    },
    {
      "cell_type": "code",
      "metadata": {
        "id": "5JPtXdV6PGXC"
      },
      "source": [
        "sample_array"
      ],
      "execution_count": null,
      "outputs": []
    },
    {
      "cell_type": "code",
      "metadata": {
        "id": "tItK3RWuPGXD"
      },
      "source": [
        "# Set the value of index 4 and 6 to 10\n",
        "sample_array[4:6] = 10"
      ],
      "execution_count": null,
      "outputs": []
    },
    {
      "cell_type": "code",
      "metadata": {
        "id": "iMv1pFJ6PGXF"
      },
      "source": [
        "sample_array"
      ],
      "execution_count": null,
      "outputs": []
    },
    {
      "cell_type": "markdown",
      "metadata": {
        "id": "GRcYyZ26PGXG"
      },
      "source": [
        "## Copy an Array"
      ]
    },
    {
      "cell_type": "code",
      "metadata": {
        "colab": {
          "base_uri": "https://localhost:8080/"
        },
        "id": "y3XPzI76PGXI",
        "outputId": "2cb6e393-7b6c-465d-9801-0415cc7d0c29"
      },
      "source": [
        "sample_array = np.arange(10)\n",
        "sample_array"
      ],
      "execution_count": null,
      "outputs": [
        {
          "output_type": "execute_result",
          "data": {
            "text/plain": [
              "array([0, 1, 2, 3, 4, 5, 6, 7, 8, 9])"
            ]
          },
          "metadata": {},
          "execution_count": 15
        }
      ]
    },
    {
      "cell_type": "code",
      "metadata": {
        "id": "V80bcZVlPGXJ"
      },
      "source": [
        "new_copy = sample_array.copy()"
      ],
      "execution_count": null,
      "outputs": []
    },
    {
      "cell_type": "code",
      "metadata": {
        "id": "DC-wCZZTPGXK"
      },
      "source": [
        "new_copy[:3] = 10"
      ],
      "execution_count": null,
      "outputs": []
    },
    {
      "cell_type": "code",
      "metadata": {
        "colab": {
          "base_uri": "https://localhost:8080/"
        },
        "id": "axY7PT8CPGXM",
        "outputId": "172c0349-1f46-4cfa-b9ce-3635f3efb27d"
      },
      "source": [
        "new_copy"
      ],
      "execution_count": null,
      "outputs": [
        {
          "output_type": "execute_result",
          "data": {
            "text/plain": [
              "array([10, 10, 10,  3,  4,  5,  6,  7,  8,  9])"
            ]
          },
          "metadata": {},
          "execution_count": 18
        }
      ]
    },
    {
      "cell_type": "code",
      "metadata": {
        "id": "AHVCxw8nPGXN"
      },
      "source": [
        "sample_array"
      ],
      "execution_count": null,
      "outputs": []
    },
    {
      "cell_type": "markdown",
      "metadata": {
        "id": "QWhi6FB0PGXO"
      },
      "source": [
        "## Selection"
      ]
    },
    {
      "cell_type": "markdown",
      "metadata": {
        "id": "mfRsbSyjPGXQ"
      },
      "source": [
        "# Activity\n",
        "Get index of the lowest number"
      ]
    },
    {
      "cell_type": "code",
      "metadata": {
        "id": "617SO2nZPGXP"
      },
      "source": [
        ""
      ],
      "execution_count": null,
      "outputs": []
    },
    {
      "cell_type": "code",
      "metadata": {
        "id": "9Vpjzo8APGXS"
      },
      "source": [
        "array = np.random.randint(0, 100, 25)\n",
        "two_dimensional = array.reshape(5, 5)"
      ],
      "execution_count": null,
      "outputs": []
    },
    {
      "cell_type": "code",
      "metadata": {
        "colab": {
          "base_uri": "https://localhost:8080/"
        },
        "id": "B7Wq9JfbPGXT",
        "outputId": "867d1f1c-31c6-49eb-9b37-749bec49424e"
      },
      "source": [
        "two_dimensional"
      ],
      "execution_count": null,
      "outputs": [
        {
          "output_type": "execute_result",
          "data": {
            "text/plain": [
              "array([[96, 94, 37, 68,  9],\n",
              "       [64, 72, 30, 51,  5],\n",
              "       [35, 20, 33, 85, 52],\n",
              "       [76, 59, 42, 64, 36],\n",
              "       [23, 25, 71, 87, 38]])"
            ]
          },
          "metadata": {},
          "execution_count": 13
        }
      ]
    },
    {
      "cell_type": "code",
      "metadata": {
        "id": "ZOwEp6bRPGXU"
      },
      "source": [
        "# your code goes here"
      ],
      "execution_count": null,
      "outputs": []
    },
    {
      "cell_type": "code",
      "metadata": {
        "colab": {
          "base_uri": "https://localhost:8080/"
        },
        "id": "N8h5Uoi5PGXV",
        "outputId": "ef2d1806-0a07-442f-df42-d9f88a85df2a"
      },
      "source": [
        "Sort = np.sort(array)\n",
        "First = Sort[:1]\n",
        "\n",
        "Output = np.where(two_dimensional == First)\n",
        "\n",
        "Output"
      ],
      "execution_count": null,
      "outputs": [
        {
          "output_type": "execute_result",
          "data": {
            "text/plain": [
              "(array([1]), array([4]))"
            ]
          },
          "metadata": {},
          "execution_count": 38
        }
      ]
    }
  ]
}